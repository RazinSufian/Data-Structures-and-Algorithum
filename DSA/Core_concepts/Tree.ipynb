{
 "cells": [
  {
   "cell_type": "code",
   "execution_count": 1,
   "metadata": {},
   "outputs": [],
   "source": [
    "class Node:\n",
    "    def __init__(self, elem):\n",
    "        self.elem=elem\n",
    "        self.left = self.right = None\n",
    "   \n",
    "def tree_construction(arr, i, n):\n",
    "    root = None\n",
    "    if i < n:\n",
    "        if (arr[i]!=None):\n",
    "            root = Node(arr[i])\n",
    "            root.left = tree_construction (arr, 2 *i, n)\n",
    "            root.right =tree_construction (arr, 2* i + 1, n) \n",
    "    return root\n",
    "\n",
    "array_rep = [None,1,2,3,4,5]\n",
    "root= tree_construction (array_rep, 1, len(array_rep))"
   ]
  },
  {
   "cell_type": "code",
   "execution_count": 26,
   "metadata": {},
   "outputs": [
    {
     "name": "stdout",
     "output_type": "stream",
     "text": [
      "2 2\n",
      "in\n",
      "2 1\n",
      "in\n",
      "2\n"
     ]
    }
   ],
   "source": [
    "def get_level(node, node_level, elem):\n",
    "    if (node == None):\n",
    "        return 0\n",
    "    if (node.elem == elem):\n",
    "        return node_level\n",
    "    downlevel = get_level(node.left, node_level + 1, elem)\n",
    "    print(downlevel,node.elem)\n",
    "    # if (downlevel != 0):\n",
    "    #     print(\"in\")\n",
    "    #     return downlevel\n",
    "    downlevel = get_level(node.right, node_level + 1, elem)\n",
    "    print(downlevel,node.elem)\n",
    "    return downlevel\n",
    "print(get_level(root,0,4))"
   ]
  },
  {
   "cell_type": "code",
   "execution_count": 27,
   "metadata": {},
   "outputs": [
    {
     "name": "stdout",
     "output_type": "stream",
     "text": [
      "5\n"
     ]
    }
   ],
   "source": [
    "def count_nodes (root):\n",
    " if root is None:\n",
    "    return 0\n",
    " return (1 + count_nodes (root.left) + count_nodes (root.right))\n",
    "print(count_nodes(root))"
   ]
  }
 ],
 "metadata": {
  "kernelspec": {
   "display_name": "Python 3",
   "language": "python",
   "name": "python3"
  },
  "language_info": {
   "codemirror_mode": {
    "name": "ipython",
    "version": 3
   },
   "file_extension": ".py",
   "mimetype": "text/x-python",
   "name": "python",
   "nbconvert_exporter": "python",
   "pygments_lexer": "ipython3",
   "version": "3.11.4"
  },
  "orig_nbformat": 4
 },
 "nbformat": 4,
 "nbformat_minor": 2
}
