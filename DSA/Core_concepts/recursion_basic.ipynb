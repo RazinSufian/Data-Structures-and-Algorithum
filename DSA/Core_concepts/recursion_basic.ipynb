{
 "cells": [
  {
   "cell_type": "code",
   "execution_count": 2,
   "metadata": {},
   "outputs": [
    {
     "name": "stdout",
     "output_type": "stream",
     "text": [
      "8\n"
     ]
    }
   ],
   "source": [
    "sample=[3,5,2,7,3,8]\n",
    "\n",
    "def find_max(arr,indx=0):\n",
    "  if indx==len(arr)-1:\n",
    "    return arr[indx]\n",
    "  m=find_max(arr,indx+1)\n",
    "  return (max(m,arr[indx]))\n",
    "\n",
    "print(find_max(sample))\n"
   ]
  },
  {
   "cell_type": "code",
   "execution_count": 3,
   "metadata": {},
   "outputs": [
    {
     "name": "stdout",
     "output_type": "stream",
     "text": [
      "8\n"
     ]
    }
   ],
   "source": [
    "sample=[3,5,2,7,3,8]\n",
    "def find_max_2(arr,m,index=0):\n",
    "  if index==len(arr)-1:\n",
    "    return m\n",
    "  compare=max(arr[index],arr[index+1])\n",
    "  if compare>m:\n",
    "    return find_max_2(arr,compare,index+1)\n",
    "  else:\n",
    "    return find_max_2(arr,m,index+1)\n",
    "print(find_max_2(sample,sample[0]))\n"
   ]
  },
  {
   "cell_type": "code",
   "execution_count": 4,
   "metadata": {},
   "outputs": [
    {
     "name": "stdout",
     "output_type": "stream",
     "text": [
      "6\n"
     ]
    }
   ],
   "source": [
    "sample=[3,5,2,7,3,8]\n",
    "\n",
    "def count_arr(arr,len=0):\n",
    "  if not bool(arr):\n",
    "    #print(\"in\")\n",
    "    return len\n",
    "  return count_arr(arr[1:],len+1)\n",
    "\n",
    "print(count_arr(sample))"
   ]
  },
  {
   "cell_type": "code",
   "execution_count": 8,
   "metadata": {},
   "outputs": [
    {
     "name": "stdout",
     "output_type": "stream",
     "text": [
      "6\n",
      "6\n"
     ]
    }
   ],
   "source": [
    "##Claculating link list lenth using recursion\n",
    "\n",
    "import numpy  as np\n",
    "class Node:\n",
    "  def __init__(self,data,nxt=None):\n",
    "    self.elem=data\n",
    "    self.next=nxt\n",
    "\n",
    "def createList(arr):\n",
    "  head=Node(arr[0])\n",
    "  tail=head\n",
    "  for i in range(1,len(arr)):\n",
    "    new_node=Node(arr[i])\n",
    "    tail.next=new_node #Linking_it_with_the_previous_element\n",
    "    tail=new_node #making_it_the_new_tail,\n",
    "    #Note: New_node.next a by defult None set hocche; we are not modifing it, in this step\n",
    "  return head\n",
    "\n",
    "head = createList(np.array([10,15,34,41,56,72]))\n",
    "\n",
    "#Link_List_Count\n",
    "def link_list_count(head):\n",
    "    if head==None:\n",
    "        return 0\n",
    "    return(1+ link_list_count(head.next))\n",
    "\n",
    "print(link_list_count(head))\n",
    "\n",
    "#My method\n",
    "def link_list_count_2(head,count=0):\n",
    "   if head==None:\n",
    "      return count\n",
    "   count+=1\n",
    "   return link_list_count_2(head.next,count)\n",
    "print(link_list_count_2(head))\n",
    "   "
   ]
  },
  {
   "cell_type": "code",
   "execution_count": 5,
   "metadata": {},
   "outputs": [
    {
     "name": "stdout",
     "output_type": "stream",
     "text": [
      "1 1 1 1 0 1 "
     ]
    }
   ],
   "source": [
    "## decimal to binary:\n",
    "## in this prblm we have to main the stack algorithum as the very last remider will prit first \n",
    "##and the very first one will print at the last, so it like first LIFO( last in first out)\n",
    "def dec_to_bi(num):\n",
    "    if num==1:\n",
    "        return \n",
    "    #print (num%2, end=\" \") if print befor recusion call the out put would be like queue, which will give us\n",
    "    # the reverse answer\n",
    "    dec_to_bi(num//2)\n",
    "    print (num%2, end=\" \")\n",
    "\n",
    "dec_to_bi(125)\n",
    "\n"
   ]
  },
  {
   "cell_type": "code",
   "execution_count": 3,
   "metadata": {},
   "outputs": [
    {
     "data": {
      "text/plain": [
       "8"
      ]
     },
     "execution_count": 3,
     "metadata": {},
     "output_type": "execute_result"
    }
   ],
   "source": [
    "def power(num,pow_num):\n",
    "    if pow_num==1:\n",
    "        return num\n",
    "    return num * (power(num,pow_num-1))\n",
    "power (2,3)  "
   ]
  },
  {
   "cell_type": "code",
   "execution_count": 7,
   "metadata": {},
   "outputs": [
    {
     "name": "stdout",
     "output_type": "stream",
     "text": [
      "False\n"
     ]
    }
   ],
   "source": [
    "#binary_search\n",
    "\n",
    "def binarysearch(arra,elem,start,end):\n",
    "    mid=(start+end)//2\n",
    "    if start>end:\n",
    "        return False\n",
    "    elif elem==arra[mid]:\n",
    "        return mid\n",
    "    elif elem<arra[mid]:\n",
    "        return binarysearch(arra,elem,start,mid-1)\n",
    "    else:\n",
    "        return binarysearch(arra,elem,mid+1,end)\n",
    "\n",
    "arra=[3,7,9,13,16,19,21,25,27,29,33]\n",
    "find=20\n",
    "print(binarysearch(arra,find,0,len(arra)-1))\n"
   ]
  },
  {
   "cell_type": "code",
   "execution_count": 16,
   "metadata": {},
   "outputs": [
    {
     "name": "stdout",
     "output_type": "stream",
     "text": [
      "True\n"
     ]
    }
   ],
   "source": [
    "def palindrome(str,start,end):\n",
    "    _flag_= True\n",
    "    if start>=end:\n",
    "        return _flag_\n",
    "    if str[start]!= str[end]:\n",
    "        _flag_= False\n",
    "        return _flag_\n",
    "    return palindrome(str,start+1,end-1) ## remember we will get our desired flag answer in the very last function call\n",
    "    \n",
    "string=\"maam\"                            ## that return answer has to be carry to the very first function to get that\n",
    "print(palindrome(string,0,len(string)-1)) ## Output. thats why we use return before calling recursion, otherwise the out                                        ## would be None\n",
    "\n",
    "\n"
   ]
  },
  {
   "cell_type": "code",
   "execution_count": null,
   "metadata": {},
   "outputs": [],
   "source": [
    "def flattenList(given_list, output_list):\n",
    "    if not given_list:\n",
    "        return output_list\n",
    "\n",
    "    head, *tail = given_list\n",
    "    if isinstance(head, list):\n",
    "        return flattenList(head + tail, output_list)\n",
    "    else:\n",
    "        output_list.append(head)\n",
    "        return flattenList(tail, output_list)\n",
    "\n",
    "given_list = [1, [2, [3, [4], 5], 6], 7, 8, [9, [[10, 11], 12], 13], 14, [15, [16, [17]]]]\n",
    "output_list = flattenList(given_list, [])\n",
    "print(output_list)"
   ]
  }
 ],
 "metadata": {
  "kernelspec": {
   "display_name": "Python 3",
   "language": "python",
   "name": "python3"
  },
  "language_info": {
   "codemirror_mode": {
    "name": "ipython",
    "version": 3
   },
   "file_extension": ".py",
   "mimetype": "text/x-python",
   "name": "python",
   "nbconvert_exporter": "python",
   "pygments_lexer": "ipython3",
   "version": "3.11.4"
  },
  "orig_nbformat": 4
 },
 "nbformat": 4,
 "nbformat_minor": 2
}
