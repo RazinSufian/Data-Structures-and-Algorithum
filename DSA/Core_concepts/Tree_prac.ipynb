{
 "cells": [
  {
   "cell_type": "code",
   "execution_count": 1,
   "metadata": {},
   "outputs": [],
   "source": [
    "import numpy as np\n",
    "class Node:\n",
    "    def __init__(self,data) -> None:\n",
    "        self.elem=data\n",
    "        self.right=None\n",
    "        self.left=None"
   ]
  },
  {
   "cell_type": "code",
   "execution_count": 2,
   "metadata": {},
   "outputs": [],
   "source": [
    "#array to tree:\n",
    "array_rep=[None, \"A\", \"B\", \"C\", \"D\", \"E\", \"F\", \"G\", \"H\", None, None, None, \"I\", \"J\", None, \"K\"]\n",
    "#array_rep=[None,1,2,3,4,5]\n",
    "#here_index 0 is dummy head None\n",
    "def tree_construction(array,indx=None,length=None):\n",
    "    if indx==None and length==None:\n",
    "        indx=1\n",
    "        length=len(array)\n",
    "    node=None\n",
    "    if indx<length:\n",
    "        if array[indx]!= None:\n",
    "            node=Node(array[indx])\n",
    "            node.left=tree_construction(array,2*indx,length)\n",
    "            node.right=tree_construction(array,2*indx+1,length)\n",
    "    return node\n",
    "root=tree_construction(array_rep)\n",
    "#trying changing the height\n",
    "# a=root.right.left.right\n",
    "# a.right=Node(\"new\")\n",
    "# #print(a)\n"
   ]
  },
  {
   "cell_type": "code",
   "execution_count": 7,
   "metadata": {},
   "outputs": [
    {
     "name": "stdout",
     "output_type": "stream",
     "text": [
      "Pre_Order:\n",
      "A B D H E C F I J G K \n",
      "In_Order:\n",
      "H D B E A I F J C G K \n",
      "Post_Order:\n",
      "H D E B I J F K G C A "
     ]
    }
   ],
   "source": [
    "#Tree Traversal\n",
    "#Pre-Order Traversal: each node will print then move to  the next node.\n",
    "\"\"\"\n",
    "##Psudo_Pre-Order:\n",
    "print(root.elem)\n",
    "recursivecall(root.left)\n",
    "recursivecall(root.left)\n",
    "\"\"\"\n",
    "#In-Order Traversal: if the node is travers two times then it will print.\n",
    "\"\"\"\n",
    "##Psudo_In-Order:\n",
    "recursivecall(root.left)\n",
    "print(root.elem)\n",
    "recursivecall(root.left)\n",
    "\"\"\"\n",
    "#Post_Order Traversal: here every parents node will  print after the child(left child first)\n",
    "\"\"\"\n",
    "##Psudo_Post_Order:\n",
    "recursivecall(root.left)\n",
    "recursivecall(root.left)\n",
    "print(root.elem)\n",
    "\"\"\"\n",
    "\n",
    "def Pre_Order(root):\n",
    "    if root==None:\n",
    "        return\n",
    "    print(root.elem,end=\" \")\n",
    "    Pre_Order(root.left)\n",
    "    Pre_Order(root.right)\n",
    "\n",
    "def In_Order(root):\n",
    "    if root==None:\n",
    "        return\n",
    "    In_Order(root.left)\n",
    "    print(root.elem,end=\" \")\n",
    "    In_Order(root.right)\n",
    "\n",
    "def Post_Order(root):\n",
    "    if root==None:\n",
    "        return\n",
    "    Post_Order(root.left)\n",
    "    Post_Order(root.right)\n",
    "    print(root.elem,end=\" \")\n",
    "print(\"Pre_Order:\")\n",
    "Pre_Order(root)\n",
    "print(\"\")\n",
    "print(\"In_Order:\")\n",
    "In_Order(root)\n",
    "print(\"\")\n",
    "print(\"Post_Order:\")\n",
    "Post_Order(root)\n"
   ]
  },
  {
   "cell_type": "code",
   "execution_count": 37,
   "metadata": {},
   "outputs": [
    {
     "name": "stdout",
     "output_type": "stream",
     "text": [
      "3\n"
     ]
    }
   ],
   "source": [
    "#root height:\n",
    "def tree_height(root):\n",
    "    if root==None:\n",
    "        return -1\n",
    "    return(1+max(tree_height(root.left),tree_height(root.right)))\n",
    "\n",
    "print(tree_height(root))\n",
    "    "
   ]
  },
  {
   "cell_type": "code",
   "execution_count": 49,
   "metadata": {},
   "outputs": [
    {
     "name": "stdout",
     "output_type": "stream",
     "text": [
      "[None, 'A', 'B', 'C', 'D', 'E', 'F', 'G', 'H', None, None, None, 'I', 'J', None, 'K']\n"
     ]
    }
   ],
   "source": [
    "#tree to array:\n",
    "tree=root\n",
    "def array_construction(root,indx=1,array=None,length=None):\n",
    "    if array==None and length==None:\n",
    "        length=(tree_height(root)+1)**2\n",
    "        array=[None]*length\n",
    "    if root==None:\n",
    "        return None\n",
    "    else:\n",
    "        array[indx]=root.elem\n",
    "        array_construction(root.left,indx*2,array,length)\n",
    "        array_construction(root.right,indx*2+1,array,length)\n",
    "    return array\n",
    "\n",
    "print(array_construction(tree))\n",
    "\n"
   ]
  },
  {
   "cell_type": "code",
   "execution_count": 34,
   "metadata": {},
   "outputs": [
    {
     "data": {
      "text/plain": [
       "2"
      ]
     },
     "execution_count": 34,
     "metadata": {},
     "output_type": "execute_result"
    }
   ],
   "source": [
    "##Finding arra Level\n",
    "def arra_level(root,elem,level=0):\n",
    "    if root==None:\n",
    "        return 0\n",
    "    if root.elem==elem:\n",
    "        return level\n",
    "    arra_level_carry=arra_level(root.left,elem,level+1)\n",
    "    if arra_level_carry!=0:\n",
    "        return arra_level_carry\n",
    "    arra_level_carry=arra_level(root.right,elem,level+1)\n",
    "    return arra_level_carry\n",
    "arra_level(root,5)\n",
    "    \n",
    "    "
   ]
  },
  {
   "cell_type": "code",
   "execution_count": 36,
   "metadata": {},
   "outputs": [
    {
     "name": "stdout",
     "output_type": "stream",
     "text": [
      "5\n"
     ]
    }
   ],
   "source": [
    "#Count Node\n",
    "def count_node(root):\n",
    "    if root==None:\n",
    "        return 0\n",
    "    return (1+count_node(root.left)+count_node(root.right))\n",
    "print(count_node(root))"
   ]
  },
  {
   "cell_type": "code",
   "execution_count": 15,
   "metadata": {},
   "outputs": [
    {
     "name": "stdout",
     "output_type": "stream",
     "text": [
      "False\n"
     ]
    }
   ],
   "source": [
    "##Finding to tree are identical:\n",
    "def find_identical(root_1,root_2):\n",
    "    if root_1==None or root_2==None:\n",
    "        if root_2!=None or root_1!= None:\n",
    "            return False\n",
    "        else:return True  \n",
    "    if root_1.elem!=root_2.elem:\n",
    "        return False\n",
    "    left_half_chek_result=find_identical(root_1.left,root_2.left)\n",
    "    if left_half_chek_result==False:\n",
    "        return left_half_chek_result\n",
    "    else:\n",
    "        right_half_chek_result=find_identical(root_1.right,root_2.right)\n",
    "        return right_half_chek_result\n",
    "    \n",
    "array_rep_1=[None,1,2,8,3,4,None,5]\n",
    "array_rep_2=[None,1,2,5,3,4,None,5]\n",
    "root_1=tree_construction(array_rep_1)\n",
    "root_2=tree_construction(array_rep_2)\n",
    "print(find_identical(root_1,root_2))\n",
    "\n",
    "\n",
    "    \n",
    "\n"
   ]
  },
  {
   "cell_type": "code",
   "execution_count": null,
   "metadata": {},
   "outputs": [],
   "source": []
  },
  {
   "cell_type": "code",
   "execution_count": null,
   "metadata": {},
   "outputs": [],
   "source": []
  }
 ],
 "metadata": {
  "kernelspec": {
   "display_name": "Python 3",
   "language": "python",
   "name": "python3"
  },
  "language_info": {
   "codemirror_mode": {
    "name": "ipython",
    "version": 3
   },
   "file_extension": ".py",
   "mimetype": "text/x-python",
   "name": "python",
   "nbconvert_exporter": "python",
   "pygments_lexer": "ipython3",
   "version": "3.11.4"
  },
  "orig_nbformat": 4
 },
 "nbformat": 4,
 "nbformat_minor": 2
}
