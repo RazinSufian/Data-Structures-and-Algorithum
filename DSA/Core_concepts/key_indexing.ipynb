{
 "cells": [
  {
   "cell_type": "code",
   "execution_count": 29,
   "metadata": {},
   "outputs": [
    {
     "name": "stdout",
     "output_type": "stream",
     "text": [
      "[0 1 2 1 1]\n"
     ]
    },
    {
     "data": {
      "text/plain": [
       "False"
      ]
     },
     "execution_count": 29,
     "metadata": {},
     "output_type": "execute_result"
    }
   ],
   "source": [
    "import numpy as np\n",
    "#key_indexing\n",
    "#it gives us a constant searching time\n",
    "_1_arra=[3,2,1,4,2]\n",
    "\n",
    "def key_indexing(arra):\n",
    "    modified_arra=np.zeros(max(arra)+1, int)\n",
    "    for i in arra:\n",
    "        modified_arra[i]=modified_arra[i]+1\n",
    "    return modified_arra\n",
    "\n",
    "\n",
    "print(key_indexing(_1_arra))\n",
    "## Now this will only work for postive integer\n",
    "#for negetive numbers\n",
    "\n",
    "_2_arra=[-3,-2,6,-7,-5]\n",
    "\n",
    "def key_ind_neg(arra):\n",
    "    minmum,maximum=abs(min(arra)),max(arra)\n",
    "    modified_arra=np.zeros((maximum+minmum)+1, int)\n",
    "    for i in arra:\n",
    "        modified_arra[i+minmum]=modified_arra[i+minmum]+1\n",
    "    shifting_constant=minmum\n",
    "    return modified_arra,shifting_constant\n",
    "\n",
    "\n",
    "#search\n",
    "def key_ind_arra_search(key_ind_arra,key,shif_cons=0):\n",
    "    if shif_cons==0:\n",
    "        try:\n",
    "            key_ind_arra[key]!= 0\n",
    "            return True\n",
    "        except: return False\n",
    "    else:\n",
    "        try :\n",
    "            key_ind_arra[key+shif_cons]!=0\n",
    "            return True\n",
    "        except: return False\n",
    "key_ind,s_c=key_ind_neg(_2_arra)      \n",
    "key_ind_arra_search(key_ind,7,s_c)\n",
    "\n",
    "##if the data's standared derivation is very low or the data has string values, then key_indexing is\n",
    "##not a proper solution in that case, thats we we use hash_table\n",
    "\n",
    "\n",
    "\n",
    "\n",
    "\n",
    "\n"
   ]
  },
  {
   "cell_type": "code",
   "execution_count": null,
   "metadata": {},
   "outputs": [],
   "source": []
  }
 ],
 "metadata": {
  "kernelspec": {
   "display_name": "Python 3",
   "language": "python",
   "name": "python3"
  },
  "language_info": {
   "codemirror_mode": {
    "name": "ipython",
    "version": 3
   },
   "file_extension": ".py",
   "mimetype": "text/x-python",
   "name": "python",
   "nbconvert_exporter": "python",
   "pygments_lexer": "ipython3",
   "version": "3.11.4"
  },
  "orig_nbformat": 4
 },
 "nbformat": 4,
 "nbformat_minor": 2
}
